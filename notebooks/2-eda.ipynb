{
 "cells": [
  {
   "cell_type": "code",
   "execution_count": 1,
   "metadata": {},
   "outputs": [],
   "source": [
    "import pandas as pd\n",
    "import seaborn as sns"
   ]
  },
  {
   "cell_type": "code",
   "execution_count": 2,
   "metadata": {},
   "outputs": [],
   "source": [
    "dataset_items = pd.read_csv(\"../data/raw/dataset_items.csv\")\n",
    "dataset_reviews = pd.read_csv(\"../data/raw/dataset_reviews.csv\")"
   ]
  },
  {
   "cell_type": "code",
   "execution_count": 3,
   "metadata": {},
   "outputs": [],
   "source": [
    "with open(\"../data/raw/categories.txt\", \"r\") as file:\n",
    "    data_categories = file.read()"
   ]
  },
  {
   "cell_type": "code",
   "execution_count": 4,
   "metadata": {},
   "outputs": [
    {
     "data": {
      "text/plain": [
       "((10942, 9), (203787, 15))"
      ]
     },
     "execution_count": 4,
     "metadata": {},
     "output_type": "execute_result"
    }
   ],
   "source": [
    "dataset_items.shape, dataset_reviews.shape"
   ]
  },
  {
   "cell_type": "code",
   "execution_count": 5,
   "metadata": {},
   "outputs": [
    {
     "data": {
      "text/plain": [
       "'beli-harddisk-eksternal\\n\\nbeli-laptop\\n\\nbeli-smart-tv\\n\\njual-flash-drives\\n\\nshop-televisi-digital\\n\\n'"
      ]
     },
     "execution_count": 5,
     "metadata": {},
     "output_type": "execute_result"
    }
   ],
   "source": [
    "data_categories"
   ]
  },
  {
   "cell_type": "code",
   "execution_count": 6,
   "metadata": {},
   "outputs": [
    {
     "name": "stdout",
     "output_type": "stream",
     "text": [
      "beli-harddisk-eksternal\n",
      "\n",
      "beli-laptop\n",
      "\n",
      "beli-smart-tv\n",
      "\n",
      "jual-flash-drives\n",
      "\n",
      "shop-televisi-digital\n",
      "\n",
      "\n"
     ]
    }
   ],
   "source": [
    "print(data_categories)"
   ]
  },
  {
   "cell_type": "code",
   "execution_count": 7,
   "metadata": {},
   "outputs": [],
   "source": [
    "pd.set_option(\"display.max_rows\", dataset_reviews.shape[0])\n",
    "pd.set_option(\"display.max_columns\", dataset_reviews.shape[1])"
   ]
  },
  {
   "cell_type": "code",
   "execution_count": 8,
   "metadata": {},
   "outputs": [
    {
     "data": {
      "text/html": [
       "<div>\n",
       "<style scoped>\n",
       "    .dataframe tbody tr th:only-of-type {\n",
       "        vertical-align: middle;\n",
       "    }\n",
       "\n",
       "    .dataframe tbody tr th {\n",
       "        vertical-align: top;\n",
       "    }\n",
       "\n",
       "    .dataframe thead th {\n",
       "        text-align: right;\n",
       "    }\n",
       "</style>\n",
       "<table border=\"1\" class=\"dataframe\">\n",
       "  <thead>\n",
       "    <tr style=\"text-align: right;\">\n",
       "      <th></th>\n",
       "      <th>itemId</th>\n",
       "      <th>category</th>\n",
       "      <th>name</th>\n",
       "      <th>brandName</th>\n",
       "      <th>url</th>\n",
       "      <th>price</th>\n",
       "      <th>averageRating</th>\n",
       "      <th>totalReviews</th>\n",
       "      <th>retrievedDate</th>\n",
       "    </tr>\n",
       "  </thead>\n",
       "  <tbody>\n",
       "    <tr>\n",
       "      <th>0</th>\n",
       "      <td>100002528</td>\n",
       "      <td>beli-harddisk-eksternal</td>\n",
       "      <td>TOSHIBA Smart HD LED TV 32\" - 32L5650VJ Free B...</td>\n",
       "      <td>Toshiba</td>\n",
       "      <td>https://www.lazada.co.id/products/toshiba-smar...</td>\n",
       "      <td>2499000</td>\n",
       "      <td>4</td>\n",
       "      <td>8</td>\n",
       "      <td>2019-10-02</td>\n",
       "    </tr>\n",
       "    <tr>\n",
       "      <th>1</th>\n",
       "      <td>100003785</td>\n",
       "      <td>beli-harddisk-eksternal</td>\n",
       "      <td>TOSHIBA Full HD Smart LED TV 40\" - 40L5650VJ -...</td>\n",
       "      <td>Toshiba</td>\n",
       "      <td>https://www.lazada.co.id/products/toshiba-full...</td>\n",
       "      <td>3788000</td>\n",
       "      <td>3</td>\n",
       "      <td>3</td>\n",
       "      <td>2019-10-02</td>\n",
       "    </tr>\n",
       "    <tr>\n",
       "      <th>2</th>\n",
       "      <td>100004132</td>\n",
       "      <td>beli-harddisk-eksternal</td>\n",
       "      <td>Samsung 40 Inch Full HD Flat LED Digital TV 4...</td>\n",
       "      <td>LG</td>\n",
       "      <td>https://www.lazada.co.id/products/samsung-40-i...</td>\n",
       "      <td>3850000</td>\n",
       "      <td>3</td>\n",
       "      <td>2</td>\n",
       "      <td>2019-10-02</td>\n",
       "    </tr>\n",
       "    <tr>\n",
       "      <th>3</th>\n",
       "      <td>100004505</td>\n",
       "      <td>beli-harddisk-eksternal</td>\n",
       "      <td>Sharp HD LED TV 24\" - LC-24LE175I - Hitam</td>\n",
       "      <td>Sharp</td>\n",
       "      <td>https://www.lazada.co.id/products/sharp-hd-led...</td>\n",
       "      <td>1275000</td>\n",
       "      <td>3</td>\n",
       "      <td>11</td>\n",
       "      <td>2019-10-02</td>\n",
       "    </tr>\n",
       "    <tr>\n",
       "      <th>4</th>\n",
       "      <td>100005037</td>\n",
       "      <td>beli-harddisk-eksternal</td>\n",
       "      <td>Lenovo Ideapad 130-15AST LAPTOP MULTIMEDIA I A...</td>\n",
       "      <td>Lenovo</td>\n",
       "      <td>https://www.lazada.co.id/products/lenovo-ideap...</td>\n",
       "      <td>3984100</td>\n",
       "      <td>5</td>\n",
       "      <td>1</td>\n",
       "      <td>2019-10-02</td>\n",
       "    </tr>\n",
       "  </tbody>\n",
       "</table>\n",
       "</div>"
      ],
      "text/plain": [
       "      itemId                 category  \\\n",
       "0  100002528  beli-harddisk-eksternal   \n",
       "1  100003785  beli-harddisk-eksternal   \n",
       "2  100004132  beli-harddisk-eksternal   \n",
       "3  100004505  beli-harddisk-eksternal   \n",
       "4  100005037  beli-harddisk-eksternal   \n",
       "\n",
       "                                                name brandName  \\\n",
       "0  TOSHIBA Smart HD LED TV 32\" - 32L5650VJ Free B...   Toshiba   \n",
       "1  TOSHIBA Full HD Smart LED TV 40\" - 40L5650VJ -...   Toshiba   \n",
       "2   Samsung 40 Inch Full HD Flat LED Digital TV 4...        LG   \n",
       "3          Sharp HD LED TV 24\" - LC-24LE175I - Hitam     Sharp   \n",
       "4  Lenovo Ideapad 130-15AST LAPTOP MULTIMEDIA I A...    Lenovo   \n",
       "\n",
       "                                                 url    price  averageRating  \\\n",
       "0  https://www.lazada.co.id/products/toshiba-smar...  2499000              4   \n",
       "1  https://www.lazada.co.id/products/toshiba-full...  3788000              3   \n",
       "2  https://www.lazada.co.id/products/samsung-40-i...  3850000              3   \n",
       "3  https://www.lazada.co.id/products/sharp-hd-led...  1275000              3   \n",
       "4  https://www.lazada.co.id/products/lenovo-ideap...  3984100              5   \n",
       "\n",
       "   totalReviews retrievedDate  \n",
       "0             8    2019-10-02  \n",
       "1             3    2019-10-02  \n",
       "2             2    2019-10-02  \n",
       "3            11    2019-10-02  \n",
       "4             1    2019-10-02  "
      ]
     },
     "execution_count": 8,
     "metadata": {},
     "output_type": "execute_result"
    }
   ],
   "source": [
    "dataset_items.head()"
   ]
  },
  {
   "cell_type": "code",
   "execution_count": 9,
   "metadata": {},
   "outputs": [
    {
     "data": {
      "text/html": [
       "<div>\n",
       "<style scoped>\n",
       "    .dataframe tbody tr th:only-of-type {\n",
       "        vertical-align: middle;\n",
       "    }\n",
       "\n",
       "    .dataframe tbody tr th {\n",
       "        vertical-align: top;\n",
       "    }\n",
       "\n",
       "    .dataframe thead th {\n",
       "        text-align: right;\n",
       "    }\n",
       "</style>\n",
       "<table border=\"1\" class=\"dataframe\">\n",
       "  <thead>\n",
       "    <tr style=\"text-align: right;\">\n",
       "      <th></th>\n",
       "      <th>itemId</th>\n",
       "      <th>category</th>\n",
       "      <th>name</th>\n",
       "      <th>rating</th>\n",
       "      <th>originalRating</th>\n",
       "      <th>reviewTitle</th>\n",
       "      <th>reviewContent</th>\n",
       "      <th>likeCount</th>\n",
       "      <th>upVotes</th>\n",
       "      <th>downVotes</th>\n",
       "      <th>helpful</th>\n",
       "      <th>relevanceScore</th>\n",
       "      <th>boughtDate</th>\n",
       "      <th>clientType</th>\n",
       "      <th>retrievedDate</th>\n",
       "    </tr>\n",
       "  </thead>\n",
       "  <tbody>\n",
       "    <tr>\n",
       "      <th>0</th>\n",
       "      <td>100002528</td>\n",
       "      <td>beli-harddisk-eksternal</td>\n",
       "      <td>Kamal U.</td>\n",
       "      <td>5</td>\n",
       "      <td>NaN</td>\n",
       "      <td>NaN</td>\n",
       "      <td>bagus  mantap dah sesui pesanan</td>\n",
       "      <td>0</td>\n",
       "      <td>0</td>\n",
       "      <td>0</td>\n",
       "      <td>True</td>\n",
       "      <td>26.51</td>\n",
       "      <td>09 Apr 2019</td>\n",
       "      <td>androidApp</td>\n",
       "      <td>2019-10-02</td>\n",
       "    </tr>\n",
       "    <tr>\n",
       "      <th>1</th>\n",
       "      <td>100002528</td>\n",
       "      <td>beli-harddisk-eksternal</td>\n",
       "      <td>yofanca m.</td>\n",
       "      <td>4</td>\n",
       "      <td>NaN</td>\n",
       "      <td>NaN</td>\n",
       "      <td>Bagus, sesuai foto</td>\n",
       "      <td>0</td>\n",
       "      <td>0</td>\n",
       "      <td>0</td>\n",
       "      <td>True</td>\n",
       "      <td>22.49</td>\n",
       "      <td>24 Sep 2017</td>\n",
       "      <td>androidApp</td>\n",
       "      <td>2019-10-02</td>\n",
       "    </tr>\n",
       "    <tr>\n",
       "      <th>2</th>\n",
       "      <td>100002528</td>\n",
       "      <td>beli-harddisk-eksternal</td>\n",
       "      <td>Lazada Customer</td>\n",
       "      <td>5</td>\n",
       "      <td>NaN</td>\n",
       "      <td>ok mantaaapppp barang sesuai pesanan.. good</td>\n",
       "      <td>okkkkk mantaaaaaaapppp ... goood</td>\n",
       "      <td>0</td>\n",
       "      <td>0</td>\n",
       "      <td>0</td>\n",
       "      <td>True</td>\n",
       "      <td>21.50</td>\n",
       "      <td>04 Apr 2018</td>\n",
       "      <td>androidApp</td>\n",
       "      <td>2019-10-02</td>\n",
       "    </tr>\n",
       "    <tr>\n",
       "      <th>3</th>\n",
       "      <td>100002528</td>\n",
       "      <td>beli-harddisk-eksternal</td>\n",
       "      <td>Lazada Customer</td>\n",
       "      <td>4</td>\n",
       "      <td>NaN</td>\n",
       "      <td>NaN</td>\n",
       "      <td>bagus sesuai</td>\n",
       "      <td>0</td>\n",
       "      <td>0</td>\n",
       "      <td>0</td>\n",
       "      <td>True</td>\n",
       "      <td>20.51</td>\n",
       "      <td>22 Sep 2017</td>\n",
       "      <td>androidApp</td>\n",
       "      <td>2019-10-02</td>\n",
       "    </tr>\n",
       "    <tr>\n",
       "      <th>4</th>\n",
       "      <td>100002528</td>\n",
       "      <td>beli-harddisk-eksternal</td>\n",
       "      <td>Yosep M.</td>\n",
       "      <td>5</td>\n",
       "      <td>NaN</td>\n",
       "      <td>NaN</td>\n",
       "      <td>NaN</td>\n",
       "      <td>0</td>\n",
       "      <td>0</td>\n",
       "      <td>0</td>\n",
       "      <td>True</td>\n",
       "      <td>16.01</td>\n",
       "      <td>17 Agu 2018</td>\n",
       "      <td>androidApp</td>\n",
       "      <td>2019-10-02</td>\n",
       "    </tr>\n",
       "  </tbody>\n",
       "</table>\n",
       "</div>"
      ],
      "text/plain": [
       "      itemId                 category             name  rating  \\\n",
       "0  100002528  beli-harddisk-eksternal         Kamal U.       5   \n",
       "1  100002528  beli-harddisk-eksternal       yofanca m.       4   \n",
       "2  100002528  beli-harddisk-eksternal  Lazada Customer       5   \n",
       "3  100002528  beli-harddisk-eksternal  Lazada Customer       4   \n",
       "4  100002528  beli-harddisk-eksternal         Yosep M.       5   \n",
       "\n",
       "   originalRating                                  reviewTitle  \\\n",
       "0             NaN                                          NaN   \n",
       "1             NaN                                          NaN   \n",
       "2             NaN  ok mantaaapppp barang sesuai pesanan.. good   \n",
       "3             NaN                                          NaN   \n",
       "4             NaN                                          NaN   \n",
       "\n",
       "                      reviewContent  likeCount  upVotes  downVotes  helpful  \\\n",
       "0   bagus  mantap dah sesui pesanan          0        0          0     True   \n",
       "1                Bagus, sesuai foto          0        0          0     True   \n",
       "2  okkkkk mantaaaaaaapppp ... goood          0        0          0     True   \n",
       "3                      bagus sesuai          0        0          0     True   \n",
       "4                               NaN          0        0          0     True   \n",
       "\n",
       "   relevanceScore   boughtDate  clientType retrievedDate  \n",
       "0           26.51  09 Apr 2019  androidApp    2019-10-02  \n",
       "1           22.49  24 Sep 2017  androidApp    2019-10-02  \n",
       "2           21.50  04 Apr 2018  androidApp    2019-10-02  \n",
       "3           20.51  22 Sep 2017  androidApp    2019-10-02  \n",
       "4           16.01  17 Agu 2018  androidApp    2019-10-02  "
      ]
     },
     "execution_count": 9,
     "metadata": {},
     "output_type": "execute_result"
    }
   ],
   "source": [
    "dataset_reviews.head()"
   ]
  },
  {
   "cell_type": "code",
   "execution_count": 10,
   "metadata": {},
   "outputs": [],
   "source": [
    "del dataset_items, data_categories"
   ]
  },
  {
   "cell_type": "code",
   "execution_count": 11,
   "metadata": {},
   "outputs": [],
   "source": [
    "dataset = dataset_reviews[[\"rating\", \"reviewContent\"]].copy()"
   ]
  },
  {
   "cell_type": "code",
   "execution_count": 12,
   "metadata": {},
   "outputs": [
    {
     "data": {
      "text/html": [
       "<div>\n",
       "<style scoped>\n",
       "    .dataframe tbody tr th:only-of-type {\n",
       "        vertical-align: middle;\n",
       "    }\n",
       "\n",
       "    .dataframe tbody tr th {\n",
       "        vertical-align: top;\n",
       "    }\n",
       "\n",
       "    .dataframe thead th {\n",
       "        text-align: right;\n",
       "    }\n",
       "</style>\n",
       "<table border=\"1\" class=\"dataframe\">\n",
       "  <thead>\n",
       "    <tr style=\"text-align: right;\">\n",
       "      <th></th>\n",
       "      <th>rating</th>\n",
       "      <th>reviewContent</th>\n",
       "    </tr>\n",
       "  </thead>\n",
       "  <tbody>\n",
       "    <tr>\n",
       "      <th>0</th>\n",
       "      <td>5</td>\n",
       "      <td>bagus  mantap dah sesui pesanan</td>\n",
       "    </tr>\n",
       "    <tr>\n",
       "      <th>1</th>\n",
       "      <td>4</td>\n",
       "      <td>Bagus, sesuai foto</td>\n",
       "    </tr>\n",
       "    <tr>\n",
       "      <th>2</th>\n",
       "      <td>5</td>\n",
       "      <td>okkkkk mantaaaaaaapppp ... goood</td>\n",
       "    </tr>\n",
       "    <tr>\n",
       "      <th>3</th>\n",
       "      <td>4</td>\n",
       "      <td>bagus sesuai</td>\n",
       "    </tr>\n",
       "    <tr>\n",
       "      <th>4</th>\n",
       "      <td>5</td>\n",
       "      <td>NaN</td>\n",
       "    </tr>\n",
       "  </tbody>\n",
       "</table>\n",
       "</div>"
      ],
      "text/plain": [
       "   rating                     reviewContent\n",
       "0       5   bagus  mantap dah sesui pesanan\n",
       "1       4                Bagus, sesuai foto\n",
       "2       5  okkkkk mantaaaaaaapppp ... goood\n",
       "3       4                      bagus sesuai\n",
       "4       5                               NaN"
      ]
     },
     "execution_count": 12,
     "metadata": {},
     "output_type": "execute_result"
    }
   ],
   "source": [
    "dataset.head()"
   ]
  },
  {
   "cell_type": "code",
   "execution_count": 13,
   "metadata": {},
   "outputs": [
    {
     "name": "stdout",
     "output_type": "stream",
     "text": [
      "<class 'pandas.core.frame.DataFrame'>\n",
      "RangeIndex: 203787 entries, 0 to 203786\n",
      "Data columns (total 2 columns):\n",
      " #   Column         Non-Null Count   Dtype \n",
      "---  ------         --------------   ----- \n",
      " 0   rating         203787 non-null  int64 \n",
      " 1   reviewContent  107029 non-null  object\n",
      "dtypes: int64(1), object(1)\n",
      "memory usage: 3.1+ MB\n"
     ]
    }
   ],
   "source": [
    "dataset.info()"
   ]
  },
  {
   "cell_type": "code",
   "execution_count": 14,
   "metadata": {},
   "outputs": [
    {
     "data": {
      "text/plain": [
       "rating               0\n",
       "reviewContent    96758\n",
       "dtype: int64"
      ]
     },
     "execution_count": 14,
     "metadata": {},
     "output_type": "execute_result"
    }
   ],
   "source": [
    "dataset.isnull().sum()"
   ]
  },
  {
   "cell_type": "code",
   "execution_count": 15,
   "metadata": {},
   "outputs": [
    {
     "data": {
      "text/plain": [
       "<AxesSubplot:xlabel='rating', ylabel='count'>"
      ]
     },
     "execution_count": 15,
     "metadata": {},
     "output_type": "execute_result"
    },
    {
     "data": {
      "image/png": "[encoded data removed]",
      "text/plain": [
       "<Figure size 640x480 with 1 Axes>"
      ]
     },
     "metadata": {},
     "output_type": "display_data"
    }
   ],
   "source": [
    "sns.countplot(data = dataset, x = \"rating\", hue = \"rating\")"
   ]
  },
  {
   "cell_type": "code",
   "execution_count": null,
   "metadata": {},
   "outputs": [],
   "source": []
  }
 ],
 "metadata": {
  "kernelspec": {
   "display_name": ".venv_lzd",
   "language": "python",
   "name": "python3"
  },
  "language_info": {
   "codemirror_mode": {
    "name": "ipython",
    "version": 3
   },
   "file_extension": ".py",
   "mimetype": "text/x-python",
   "name": "python",
   "nbconvert_exporter": "python",
   "pygments_lexer": "ipython3",
   "version": "3.9.13"
  }
 },
 "nbformat": 4,
 "nbformat_minor": 2
}
