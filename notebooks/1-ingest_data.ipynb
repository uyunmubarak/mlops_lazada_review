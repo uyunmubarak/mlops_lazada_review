{
 "cells": [
  {
   "cell_type": "code",
   "execution_count": 1,
   "metadata": {},
   "outputs": [
    {
     "name": "stderr",
     "output_type": "stream",
     "text": [
      "C:\\Users\\UYUN\\AppData\\Local\\Temp\\ipykernel_16416\\2637016594.py:3: DeprecationWarning: 'urllib3[secure]' extra is deprecated and will be removed in a future release of urllib3 2.x. Read more in this issue: https://github.com/urllib3/urllib3/issues/2680\n",
      "  import urllib3\n"
     ]
    }
   ],
   "source": [
    "import os\n",
    "import copy\n",
    "import urllib3\n",
    "import pandas as pd\n",
    "from minio import Minio\n",
    "from dotenv import load_dotenv"
   ]
  },
  {
   "cell_type": "code",
   "execution_count": 2,
   "metadata": {},
   "outputs": [],
   "source": [
    "urllib3.disable_warnings()"
   ]
  },
  {
   "cell_type": "code",
   "execution_count": 3,
   "metadata": {},
   "outputs": [
    {
     "data": {
      "text/plain": [
       "True"
      ]
     },
     "execution_count": 3,
     "metadata": {},
     "output_type": "execute_result"
    }
   ],
   "source": [
    "load_dotenv(\"../.env\")"
   ]
  },
  {
   "cell_type": "code",
   "execution_count": 4,
   "metadata": {},
   "outputs": [],
   "source": [
    "MINIO_ACCESSKEY = os.getenv(\"MINIO_ACCESSKEY\")\n",
    "MINIO_SECRETKEY = os.getenv(\"MINIO_SECRETKEY\")\n",
    "\n",
    "MINIO_URL=\"localhost:9000\"\n",
    "MINIO_TLS=True\n",
    "MINIO_BUCKET_NAME=\"mlops-lazada\""
   ]
  },
  {
   "cell_type": "code",
   "execution_count": 5,
   "metadata": {},
   "outputs": [],
   "source": [
    "client = Minio(\n",
    "    endpoint = MINIO_URL,\n",
    "    access_key = MINIO_ACCESSKEY,\n",
    "    secret_key = MINIO_SECRETKEY,\n",
    "    secure = MINIO_TLS,\n",
    "    cert_check = not MINIO_TLS\n",
    ")"
   ]
  },
  {
   "cell_type": "code",
   "execution_count": 6,
   "metadata": {},
   "outputs": [],
   "source": [
    "if(not client.bucket_exists(MINIO_BUCKET_NAME)):\n",
    "    raise RuntimeError(\"Bucket Not Found!\")"
   ]
  },
  {
   "cell_type": "code",
   "execution_count": 7,
   "metadata": {},
   "outputs": [
    {
     "data": {
      "text/plain": [
       "['20191002-items.csv', '20191002-reviews.csv', 'categories.txt']"
      ]
     },
     "execution_count": 7,
     "metadata": {},
     "output_type": "execute_result"
    }
   ],
   "source": [
    "object_names = []\n",
    "res = None\n",
    "\n",
    "res = client.list_objects(\n",
    "    bucket_name = MINIO_BUCKET_NAME\n",
    ")\n",
    "\n",
    "for obj in res:\n",
    "    object_names.append(obj.object_name)\n",
    "\n",
    "object_names"
   ]
  },
  {
   "cell_type": "code",
   "execution_count": 8,
   "metadata": {},
   "outputs": [],
   "source": [
    "object_data = []\n",
    "\n",
    "for name in object_names:\n",
    "    res = client.get_object(\n",
    "        bucket_name = MINIO_BUCKET_NAME,\n",
    "        object_name = name\n",
    "    )\n",
    "\n",
    "    object_data.append(copy.deepcopy(res.data.decode()))"
   ]
  },
  {
   "cell_type": "code",
   "execution_count": 9,
   "metadata": {},
   "outputs": [],
   "source": [
    "with open(\"../data/raw/dataset_items.csv\", \"w\") as out:\n",
    "    out.write(object_data[0])\n",
    "\n",
    "with open(\"../data/raw/dataset_reviews.csv\", \"w\") as out:\n",
    "    out.write(object_data[1])\n",
    "\n",
    "with open(\"../data/raw/categories.txt\", \"w\") as out:\n",
    "    out.write(object_data[2])"
   ]
  },
  {
   "cell_type": "code",
   "execution_count": null,
   "metadata": {},
   "outputs": [],
   "source": []
  }
 ],
 "metadata": {
  "kernelspec": {
   "display_name": "base",
   "language": "python",
   "name": "python3"
  },
  "language_info": {
   "codemirror_mode": {
    "name": "ipython",
    "version": 3
   },
   "file_extension": ".py",
   "mimetype": "text/x-python",
   "name": "python",
   "nbconvert_exporter": "python",
   "pygments_lexer": "ipython3",
   "version": "3.9.13"
  }
 },
 "nbformat": 4,
 "nbformat_minor": 2
}
